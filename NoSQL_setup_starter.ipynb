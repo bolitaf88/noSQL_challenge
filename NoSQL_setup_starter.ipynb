{
 "cells": [
  {
   "cell_type": "markdown",
   "id": "9a57c4c6",
   "metadata": {},
   "source": [
    "# Eat Safe, Love"
   ]
  },
  {
   "cell_type": "markdown",
   "id": "064ef857",
   "metadata": {},
   "source": [
    "## Part 1: Database and Jupyter Notebook Set Up"
   ]
  },
  {
   "cell_type": "markdown",
   "id": "664e3c1f",
   "metadata": {},
   "source": [
    "Import the data provided in the `establishments.json` file from your Terminal. Name the database `uk_food` and the collection `establishments`.\n",
    "\n",
    "Within this markdown cell, copy the line of text you used to import the data from your Terminal. This way, future analysts will be able to repeat your process.\n",
    "\n",
    "e.g.: Import the dataset with `YOUR IMPORT TEXT HERE`"
   ]
  },
  {
   "cell_type": "code",
   "execution_count": 1,
   "id": "3ecdd008",
   "metadata": {},
   "outputs": [],
   "source": [
    "# Import dependencies\n",
    "from pymongo import MongoClient\n",
    "from pprint import pprint"
   ]
  },
  {
   "cell_type": "code",
   "execution_count": 2,
   "id": "59390c4a",
   "metadata": {},
   "outputs": [],
   "source": [
    "# Create an instance of MongoClient\n",
    "mongo = MongoClient(port=27017)"
   ]
  },
  {
   "cell_type": "code",
   "execution_count": 10,
   "id": "7f9ececa",
   "metadata": {},
   "outputs": [
    {
     "name": "stdout",
     "output_type": "stream",
     "text": [
      "['admin', 'config', 'gardenDB', 'local', 'nawewe', 'uk_food']\n"
     ]
    }
   ],
   "source": [
    "# confirm that our new database was created\n",
    "print(mongo.list_database_names())"
   ]
  },
  {
   "cell_type": "code",
   "execution_count": 11,
   "id": "71e373c1",
   "metadata": {},
   "outputs": [],
   "source": [
    "# assign the uk_food database to a variable name\n",
    "db = mongo['uk_food']"
   ]
  },
  {
   "cell_type": "code",
   "execution_count": 12,
   "id": "ef1b89ed",
   "metadata": {},
   "outputs": [
    {
     "name": "stdout",
     "output_type": "stream",
     "text": [
      "['establishments']\n"
     ]
    }
   ],
   "source": [
    "# review the collections in our new database\n",
    "print(db.list_collection_names())"
   ]
  },
  {
   "cell_type": "code",
   "execution_count": 17,
   "id": "18ab463c",
   "metadata": {},
   "outputs": [
    {
     "name": "stdout",
     "output_type": "stream",
     "text": [
      "['establishments']\n"
     ]
    }
   ],
   "source": [
    "# review the collections in our new database\n",
    "print(db.list_collection_names())"
   ]
  },
  {
   "cell_type": "code",
   "execution_count": 18,
   "id": "6a0d92df",
   "metadata": {},
   "outputs": [
    {
     "name": "stdout",
     "output_type": "stream",
     "text": [
      "{'AddressLine1': 'The Bay',\n",
      " 'AddressLine2': 'St Margarets Bay',\n",
      " 'AddressLine3': 'Kent',\n",
      " 'AddressLine4': '',\n",
      " 'BusinessName': 'Refreshment Kiosk',\n",
      " 'BusinessType': 'Restaurant/Cafe/Canteen',\n",
      " 'BusinessTypeID': 1,\n",
      " 'ChangesByServerID': 0,\n",
      " 'Distance': 4587.347174863443,\n",
      " 'FHRSID': 254719,\n",
      " 'LocalAuthorityBusinessID': 'PI/000069980',\n",
      " 'LocalAuthorityCode': '182',\n",
      " 'LocalAuthorityEmailAddress': 'publicprotection@dover.gov.uk',\n",
      " 'LocalAuthorityName': 'Dover',\n",
      " 'LocalAuthorityWebSite': 'http://www.dover.gov.uk/',\n",
      " 'NewRatingPending': False,\n",
      " 'Phone': '',\n",
      " 'PostCode': 'CT15 6DY',\n",
      " 'RatingDate': '2022-03-24T00:00:00',\n",
      " 'RatingKey': 'fhrs_5_en-gb',\n",
      " 'RatingValue': '5',\n",
      " 'RightToReply': '',\n",
      " 'SchemeType': 'FHRS',\n",
      " '_id': ObjectId('65107e483e4ec50bd162d646'),\n",
      " 'geocode': {'latitude': '51.152225', 'longitude': '1.387974'},\n",
      " 'links': [{'href': 'https://api.ratings.food.gov.uk/establishments/254719',\n",
      "            'rel': 'self'}],\n",
      " 'meta': {'dataSource': None,\n",
      "          'extractDate': '0001-01-01T00:00:00',\n",
      "          'itemCount': 0,\n",
      "          'pageNumber': 0,\n",
      "          'pageSize': 0,\n",
      "          'returncode': None,\n",
      "          'totalCount': 0,\n",
      "          'totalPages': 0},\n",
      " 'scores': {'ConfidenceInManagement': 5, 'Hygiene': 0, 'Structural': 5}}\n"
     ]
    }
   ],
   "source": [
    "# review a document in the establishments collection\n",
    "pprint(db.establishments.find_one())"
   ]
  },
  {
   "cell_type": "code",
   "execution_count": 19,
   "id": "11c9f11b",
   "metadata": {},
   "outputs": [],
   "source": [
    "# assign the collection to a variable\n",
    "establishments = db['establishments']"
   ]
  },
  {
   "cell_type": "markdown",
   "id": "d5671434",
   "metadata": {},
   "source": [
    "## Part 2: Update the Database"
   ]
  },
  {
   "cell_type": "markdown",
   "id": "314bd884",
   "metadata": {},
   "source": [
    "1. An exciting new halal restaurant just opened in Greenwich, but hasn't been rated yet. The magazine has asked you to include it in your analysis. Add the following restaurant \"Penang Flavours\" to the database."
   ]
  },
  {
   "cell_type": "code",
   "execution_count": 43,
   "id": "c2da7648",
   "metadata": {},
   "outputs": [
    {
     "data": {
      "text/plain": [
       "{'name': 'Penang Flavours',\n",
       " 'cuisine': 'Halal',\n",
       " 'location': 'Greenwich',\n",
       " 'rating': None}"
      ]
     },
     "execution_count": 43,
     "metadata": {},
     "output_type": "execute_result"
    }
   ],
   "source": [
    "client = MongoClient('localhost', 27017)\n",
    "db = client['uk_food']  \n",
    "collection = db['establishments']\n",
    "# Create a dictionary for the new restaurant data\n",
    "new_restaurant = {\n",
    "    \"name\": \"Penang Flavours\",\n",
    "    \"cuisine\": \"Halal\",\n",
    "    \"location\": \"Greenwich\",\n",
    "    \"rating\": None  \n",
    "}\n",
    "new_restaurant"
   ]
  },
  {
   "cell_type": "code",
   "execution_count": 44,
   "id": "a6e5cece",
   "metadata": {},
   "outputs": [],
   "source": [
    "# Insert the new restaurant into the collection\n",
    "inserted_id = establishments.insert_one(new_restaurant).inserted_id\n"
   ]
  },
  {
   "cell_type": "code",
   "execution_count": 39,
   "id": "63bb10f9",
   "metadata": {},
   "outputs": [
    {
     "name": "stdout",
     "output_type": "stream",
     "text": [
      "Inserted document ID: 65108525013b6364f135a826\n"
     ]
    }
   ],
   "source": [
    "# Check that the new restaurant was inserted\n",
    "print(\"Inserted document ID:\", inserted_id)"
   ]
  },
  {
   "cell_type": "markdown",
   "id": "0ef4395a",
   "metadata": {},
   "source": [
    "2. Find the BusinessTypeID for \"Restaurant/Cafe/Canteen\" and return only the `BusinessTypeID` and `BusinessType` fields."
   ]
  },
  {
   "cell_type": "code",
   "execution_count": 51,
   "id": "93c63829",
   "metadata": {},
   "outputs": [
    {
     "data": {
      "text/plain": [
       "{'BusinessType': 'Restaurant/Cafe/Canteen'}"
      ]
     },
     "execution_count": 51,
     "metadata": {},
     "output_type": "execute_result"
    }
   ],
   "source": [
    "\n",
    "# Find the BusinessTypeID for \"Restaurant/Cafe/Canteen\" and return only the BusinessTypeID and BusinessType fields\n",
    "query = {\"BusinessType\": \"Restaurant/Cafe/Canteen\"}\n",
    "query\n"
   ]
  },
  {
   "cell_type": "code",
   "execution_count": 60,
   "id": "fb5f4eaa",
   "metadata": {},
   "outputs": [
    {
     "name": "stdout",
     "output_type": "stream",
     "text": [
      "BusinessTypeID for 'Restaurant/Cafe/Canteen' is: 1\n"
     ]
    }
   ],
   "source": [
    "# Define the filter to find the BusinessTypeID for \"Restaurant/Cafe/Canteen\"\n",
    "filter = {\"BusinessType\": \"Restaurant/Cafe/Canteen\"}\n",
    "\n",
    "# Use find_one to retrieve the document that matches the filter\n",
    "business_type_document = collection.find_one(filter)\n",
    "\n",
    "# Check if the BusinessType document was found\n",
    "if business_type_document:\n",
    "    # Retrieve the BusinessTypeID from the document\n",
    "    business_type_id = business_type_document.get(\"BusinessTypeID\")\n",
    "    if business_type_id:\n",
    "        print(\"BusinessTypeID for 'Restaurant/Cafe/Canteen' is:\", business_type_id)\n",
    "    else:\n",
    "        print(\"No BusinessTypeID found for 'Restaurant/Cafe/Canteen'.\")\n"
   ]
  },
  {
   "cell_type": "markdown",
   "id": "4e570caf",
   "metadata": {},
   "source": [
    "3. Update the new restaurant with the `BusinessTypeID` you found."
   ]
  },
  {
   "cell_type": "code",
   "execution_count": 61,
   "id": "7f599f3d",
   "metadata": {},
   "outputs": [
    {
     "name": "stdout",
     "output_type": "stream",
     "text": [
      "Restaurant updated successfully.\n"
     ]
    }
   ],
   "source": [
    "# Update the new restaurant with the correct BusinessTypeID\n",
    "# Define the filter to find the \"Penang Flavours\" restaurant\n",
    "filter = {\"name\": \"Penang Flavours\"}\n",
    "\n",
    "# Define the update operation to set the correct BusinessTypeID\n",
    "update = {\"$set\": {\"BusinessTypeID\": \"1\"}}  # Replace 'your_correct_id' with the actual BusinessTypeID\n",
    "\n",
    "# Use update_one to update the document that matches the filter\n",
    "result = collection.update_one(filter, update)\n",
    "\n",
    "# Check if the update was successful\n",
    "if result.modified_count > 0:\n",
    "    print(\"Restaurant updated successfully.\")\n",
    "else:\n",
    "    print(\"Restaurant not found or not updated.\")\n"
   ]
  },
  {
   "cell_type": "code",
   "execution_count": 63,
   "id": "a6ad16f7",
   "metadata": {},
   "outputs": [
    {
     "name": "stdout",
     "output_type": "stream",
     "text": [
      "Updated Restaurant Document:\n",
      "{'_id': ObjectId('6510847c013b6364f135a825'), 'name': 'Penang Flavours', 'cuisine': 'Halal', 'location': 'Greenwich', 'rating': None, 'BusinessTypeID': '1'}\n"
     ]
    }
   ],
   "source": [
    "# Confirm that the new restaurant was updated\n",
    "# Define the filter to find the \"Penang Flavours\" restaurant\n",
    "filter = {\"name\": \"Penang Flavours\"}\n",
    "\n",
    "# Use find_one to retrieve the updated document\n",
    "updated_restaurant = collection.find_one(filter)\n",
    "\n",
    "# Check if the updated restaurant document was found\n",
    "if updated_restaurant:\n",
    "    # Print the updated document to verify its contents\n",
    "    print(\"Updated Restaurant Document:\")\n",
    "    print(updated_restaurant)\n",
    "else:\n",
    "    print(\"Restaurant 'Penang Flavours' not found in the collection.\")\n"
   ]
  },
  {
   "cell_type": "markdown",
   "id": "67281254",
   "metadata": {},
   "source": [
    "4. The magazine is not interested in any establishments in Dover, so check how many documents contain the Dover Local Authority. Then, remove any establishments within the Dover Local Authority from the database, and check the number of documents to ensure they were deleted."
   ]
  },
  {
   "cell_type": "code",
   "execution_count": 65,
   "id": "768474a6",
   "metadata": {},
   "outputs": [
    {
     "data": {
      "text/plain": [
       "994"
      ]
     },
     "execution_count": 65,
     "metadata": {},
     "output_type": "execute_result"
    }
   ],
   "source": [
    "# Find how many documents have LocalAuthorityName as \"Dover\"\n",
    "query = {\"LocalAuthorityName\": \"Dover\"}\n",
    "count = collection.count_documents(query)\n",
    "count"
   ]
  },
  {
   "cell_type": "code",
   "execution_count": 67,
   "id": "a11d5f1b",
   "metadata": {},
   "outputs": [
    {
     "name": "stdout",
     "output_type": "stream",
     "text": [
      "Deleted 994 documents where LocalAuthorityName is 'Dover'\n"
     ]
    }
   ],
   "source": [
    "# Delete all documents where LocalAuthorityName is \"Dover\"\n",
    "filter = {\"LocalAuthorityName\": \"Dover\"}\n",
    "result = collection.delete_many(filter)\n",
    "print(\"Deleted\", result.deleted_count, \"documents where LocalAuthorityName is 'Dover'\")\n"
   ]
  },
  {
   "cell_type": "code",
   "execution_count": 68,
   "id": "2a51aba0",
   "metadata": {},
   "outputs": [
    {
     "name": "stdout",
     "output_type": "stream",
     "text": [
      "No remaining documents include 'Dover'\n"
     ]
    }
   ],
   "source": [
    "# Check if any remaining documents include Dover\n",
    "# Define the query condition to find documents with LocalAuthorityName as \"Dover\"\n",
    "query = {\"LocalAuthorityName\": \"Dover\"}\n",
    "\n",
    "# Use count_documents to count the matching documents\n",
    "count = collection.count_documents(query)\n",
    "\n",
    "# Check if there are any remaining documents that include \"Dover\"\n",
    "if count > 0:\n",
    "    print(\"There are remaining documents that include 'Dover'\")\n",
    "else:\n",
    "    print(\"No remaining documents include 'Dover'\")"
   ]
  },
  {
   "cell_type": "code",
   "execution_count": 70,
   "id": "8c356f7b",
   "metadata": {},
   "outputs": [
    {
     "name": "stdout",
     "output_type": "stream",
     "text": [
      "There is at least one document that does not include 'Dover'\n"
     ]
    }
   ],
   "source": [
    "# Check that other documents remain with 'find_one'\n",
    "# Define a query condition to find one document that does not have LocalAuthorityName as \"Dover\"\n",
    "non_dover_query = {\"LocalAuthorityName\": {\"$ne\": \"Dover\"}}\n",
    "\n",
    "# Use find_one with the non-Dover query to retrieve a document that doesn't match the condition\n",
    "non_dover_document = collection.find_one(non_dover_query)\n",
    "\n",
    "# Check if there is at least one document that doesn't include \"Dover\"\n",
    "if non_dover_document:\n",
    "    print(\"There is at least one document that does not include 'Dover'\")\n",
    "else:\n",
    "    print(\"All documents include 'Dover'\")"
   ]
  },
  {
   "attachments": {},
   "cell_type": "markdown",
   "id": "e9f1662d",
   "metadata": {},
   "source": [
    "5. Some of the number values are stored as strings, when they should be stored as numbers."
   ]
  },
  {
   "attachments": {},
   "cell_type": "markdown",
   "id": "c46df2df",
   "metadata": {},
   "source": [
    "Use `update_many` to convert `latitude` and `longitude` to decimal numbers."
   ]
  },
  {
   "cell_type": "code",
   "execution_count": 72,
   "id": "fd4112ce",
   "metadata": {},
   "outputs": [],
   "source": [
    "# Change the data type from String to Decimal for longitude and latitude\n",
    "# Import the pymongo library and create a MongoClient\n",
    "from pymongo import MongoClient\n",
    "from decimal import Decimal\n",
    "\n",
    "# Connect to your MongoDB instance (replace 'localhost' and '27017' with your MongoDB server details)\n",
    "client = MongoClient('localhost', 27017)\n",
    "\n",
    "\n",
    "\n",
    "# Define a query to retrieve documents that need to be updated\n",
    "query = {\"longitude\": {\"$type\": \"string\"}, \"latitude\": {\"$type\": \"string\"}}\n",
    "\n",
    "# Use find to retrieve the documents that match the query\n",
    "documents_to_update = collection.find(query)\n",
    "\n",
    "# Iterate through the documents and update the data types\n",
    "for doc in documents_to_update:\n",
    "    # Convert the \"longitude\" and \"latitude\" fields to Decimal\n",
    "    doc['longitude'] = Decimal(doc['longitude'])\n",
    "    doc['latitude'] = Decimal(doc['latitude'])\n",
    "    \n",
    "    # Update the document in the collection\n",
    "    collection.replace_one({\"_id\": doc[\"_id\"]}, doc)\n",
    "\n"
   ]
  },
  {
   "attachments": {},
   "cell_type": "markdown",
   "id": "142e319c",
   "metadata": {},
   "source": [
    "Use `update_many` to convert `RatingValue` to integer numbers."
   ]
  },
  {
   "cell_type": "code",
   "execution_count": 73,
   "id": "04430a5b",
   "metadata": {},
   "outputs": [
    {
     "data": {
      "text/plain": [
       "<pymongo.results.UpdateResult at 0x2465ace9840>"
      ]
     },
     "execution_count": 73,
     "metadata": {},
     "output_type": "execute_result"
    }
   ],
   "source": [
    "# Set non 1-5 Rating Values to Null\n",
    "non_ratings = [\"AwaitingInspection\", \"Awaiting Inspection\", \"AwaitingPublication\", \"Pass\", \"Exempt\"]\n",
    "establishments.update_many({\"RatingValue\": {\"$in\": non_ratings}}, [ {'$set':{ \"RatingValue\" : None}} ])"
   ]
  },
  {
   "cell_type": "code",
   "execution_count": 75,
   "id": "92524ccc",
   "metadata": {},
   "outputs": [],
   "source": [
    "# Change the data type from String to Integer for RatingValue\n",
    "# Define a query to retrieve documents that need to be updated\n",
    "query = {\"RatingValue\": {\"$type\": \"string\"}}\n",
    "\n",
    "# Use find to retrieve the documents that match the query\n",
    "documents_to_update = collection.find(query)\n",
    "\n",
    "# Iterate through the documents and update the data type\n",
    "for doc in documents_to_update:\n",
    "    # Convert the \"RatingValue\" field to an integer\n",
    "    try:\n",
    "        doc['RatingValue'] = int(doc['RatingValue'])\n",
    "    except ValueError:\n",
    "        # Handle cases where the conversion to an integer fails\n",
    "        doc['RatingValue'] = None\n",
    "    \n",
    "    # Update the document in the collection\n",
    "    collection.replace_one({\"_id\": doc[\"_id\"]}, doc)\n",
    "    "
   ]
  },
  {
   "cell_type": "code",
   "execution_count": 77,
   "id": "0deacaf9",
   "metadata": {},
   "outputs": [],
   "source": [
    "# Check that the coordinates and rating value are now numbers\n"
   ]
  }
 ],
 "metadata": {
  "kernelspec": {
   "display_name": "Python 3 (ipykernel)",
   "language": "python",
   "name": "python3"
  },
  "language_info": {
   "codemirror_mode": {
    "name": "ipython",
    "version": 3
   },
   "file_extension": ".py",
   "mimetype": "text/x-python",
   "name": "python",
   "nbconvert_exporter": "python",
   "pygments_lexer": "ipython3",
   "version": "3.10.12"
  }
 },
 "nbformat": 4,
 "nbformat_minor": 5
}
